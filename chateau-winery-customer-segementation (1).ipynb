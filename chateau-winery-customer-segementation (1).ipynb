{
 "cells": [
  {
   "cell_type": "markdown",
   "id": "60d6d082",
   "metadata": {
    "execution": {
     "iopub.execute_input": "2024-09-04T06:35:39.476641Z",
     "iopub.status.busy": "2024-09-04T06:35:39.476209Z",
     "iopub.status.idle": "2024-09-04T06:35:39.483953Z",
     "shell.execute_reply": "2024-09-04T06:35:39.482316Z",
     "shell.execute_reply.started": "2024-09-04T06:35:39.476599Z"
    },
    "papermill": {
     "duration": 0.008218,
     "end_time": "2024-09-04T07:13:56.270922",
     "exception": false,
     "start_time": "2024-09-04T07:13:56.262704",
     "status": "completed"
    },
    "tags": []
   },
   "source": [
    "# Chateau Winery Case Analysis \n",
    "- Segementing cutomer based on their wine purchases "
   ]
  },
  {
   "cell_type": "code",
   "execution_count": 1,
   "id": "db2c38ef",
   "metadata": {
    "_cell_guid": "b1076dfc-b9ad-4769-8c92-a6c4dae69d19",
    "_uuid": "8f2839f25d086af736a60e9eeb907d3b93b6e0e5",
    "execution": {
     "iopub.execute_input": "2024-09-04T07:13:56.287760Z",
     "iopub.status.busy": "2024-09-04T07:13:56.287332Z",
     "iopub.status.idle": "2024-09-04T07:13:58.749401Z",
     "shell.execute_reply": "2024-09-04T07:13:58.747893Z"
    },
    "papermill": {
     "duration": 2.473873,
     "end_time": "2024-09-04T07:13:58.752183",
     "exception": false,
     "start_time": "2024-09-04T07:13:56.278310",
     "status": "completed"
    },
    "tags": []
   },
   "outputs": [],
   "source": [
    "import numpy as np # linear algebra\n",
    "import pandas as pd # data processing, CSV file I/O (e.g. pd.read_csv)\n",
    "import matplotlib.pyplot as plt\n",
    "import seaborn as sns\n",
    "import warnings\n",
    "warnings.filterwarnings('ignore')"
   ]
  },
  {
   "cell_type": "code",
   "execution_count": 2,
   "id": "f94d7d55",
   "metadata": {
    "execution": {
     "iopub.execute_input": "2024-09-04T07:13:58.768731Z",
     "iopub.status.busy": "2024-09-04T07:13:58.768081Z",
     "iopub.status.idle": "2024-09-04T07:13:58.792181Z",
     "shell.execute_reply": "2024-09-04T07:13:58.790441Z"
    },
    "papermill": {
     "duration": 0.035777,
     "end_time": "2024-09-04T07:13:58.795094",
     "exception": false,
     "start_time": "2024-09-04T07:13:58.759317",
     "status": "completed"
    },
    "tags": []
   },
   "outputs": [],
   "source": [
    "df = pd.read_csv('/kaggle/input/winedata/chateau.csv')"
   ]
  },
  {
   "cell_type": "code",
   "execution_count": 3,
   "id": "4d71e809",
   "metadata": {
    "execution": {
     "iopub.execute_input": "2024-09-04T07:13:58.811615Z",
     "iopub.status.busy": "2024-09-04T07:13:58.811170Z",
     "iopub.status.idle": "2024-09-04T07:13:58.837374Z",
     "shell.execute_reply": "2024-09-04T07:13:58.835860Z"
    },
    "papermill": {
     "duration": 0.038755,
     "end_time": "2024-09-04T07:13:58.840809",
     "exception": false,
     "start_time": "2024-09-04T07:13:58.802054",
     "status": "completed"
    },
    "tags": []
   },
   "outputs": [
    {
     "data": {
      "text/html": [
       "<div>\n",
       "<style scoped>\n",
       "    .dataframe tbody tr th:only-of-type {\n",
       "        vertical-align: middle;\n",
       "    }\n",
       "\n",
       "    .dataframe tbody tr th {\n",
       "        vertical-align: top;\n",
       "    }\n",
       "\n",
       "    .dataframe thead th {\n",
       "        text-align: right;\n",
       "    }\n",
       "</style>\n",
       "<table border=\"1\" class=\"dataframe\">\n",
       "  <thead>\n",
       "    <tr style=\"text-align: right;\">\n",
       "      <th></th>\n",
       "      <th>CustomerNo</th>\n",
       "      <th>customer</th>\n",
       "      <th>PinotNoir</th>\n",
       "      <th>Champagne</th>\n",
       "    </tr>\n",
       "  </thead>\n",
       "  <tbody>\n",
       "    <tr>\n",
       "      <th>0</th>\n",
       "      <td>1</td>\n",
       "      <td>Ebeling</td>\n",
       "      <td>7</td>\n",
       "      <td>34</td>\n",
       "    </tr>\n",
       "    <tr>\n",
       "      <th>1</th>\n",
       "      <td>2</td>\n",
       "      <td>England</td>\n",
       "      <td>8</td>\n",
       "      <td>34</td>\n",
       "    </tr>\n",
       "    <tr>\n",
       "      <th>2</th>\n",
       "      <td>3</td>\n",
       "      <td>Demburg</td>\n",
       "      <td>5</td>\n",
       "      <td>33</td>\n",
       "    </tr>\n",
       "    <tr>\n",
       "      <th>3</th>\n",
       "      <td>4</td>\n",
       "      <td>Eyberg</td>\n",
       "      <td>12</td>\n",
       "      <td>34</td>\n",
       "    </tr>\n",
       "    <tr>\n",
       "      <th>4</th>\n",
       "      <td>5</td>\n",
       "      <td>Zabar</td>\n",
       "      <td>9</td>\n",
       "      <td>30</td>\n",
       "    </tr>\n",
       "  </tbody>\n",
       "</table>\n",
       "</div>"
      ],
      "text/plain": [
       "   CustomerNo customer  PinotNoir  Champagne\n",
       "0           1  Ebeling          7         34\n",
       "1           2  England          8         34\n",
       "2           3  Demburg          5         33\n",
       "3           4   Eyberg         12         34\n",
       "4           5    Zabar          9         30"
      ]
     },
     "execution_count": 3,
     "metadata": {},
     "output_type": "execute_result"
    }
   ],
   "source": [
    "df.head()"
   ]
  },
  {
   "cell_type": "code",
   "execution_count": 4,
   "id": "49e317ef",
   "metadata": {
    "execution": {
     "iopub.execute_input": "2024-09-04T07:13:58.858719Z",
     "iopub.status.busy": "2024-09-04T07:13:58.858301Z",
     "iopub.status.idle": "2024-09-04T07:13:58.867436Z",
     "shell.execute_reply": "2024-09-04T07:13:58.865865Z"
    },
    "papermill": {
     "duration": 0.021879,
     "end_time": "2024-09-04T07:13:58.869984",
     "exception": false,
     "start_time": "2024-09-04T07:13:58.848105",
     "status": "completed"
    },
    "tags": []
   },
   "outputs": [
    {
     "data": {
      "text/plain": [
       "(63, 4)"
      ]
     },
     "execution_count": 4,
     "metadata": {},
     "output_type": "execute_result"
    }
   ],
   "source": [
    "df.shape"
   ]
  },
  {
   "cell_type": "code",
   "execution_count": 5,
   "id": "60492355",
   "metadata": {
    "execution": {
     "iopub.execute_input": "2024-09-04T07:13:58.886997Z",
     "iopub.status.busy": "2024-09-04T07:13:58.886568Z",
     "iopub.status.idle": "2024-09-04T07:13:58.917939Z",
     "shell.execute_reply": "2024-09-04T07:13:58.916289Z"
    },
    "papermill": {
     "duration": 0.04331,
     "end_time": "2024-09-04T07:13:58.920639",
     "exception": false,
     "start_time": "2024-09-04T07:13:58.877329",
     "status": "completed"
    },
    "tags": []
   },
   "outputs": [
    {
     "data": {
      "text/html": [
       "<div>\n",
       "<style scoped>\n",
       "    .dataframe tbody tr th:only-of-type {\n",
       "        vertical-align: middle;\n",
       "    }\n",
       "\n",
       "    .dataframe tbody tr th {\n",
       "        vertical-align: top;\n",
       "    }\n",
       "\n",
       "    .dataframe thead th {\n",
       "        text-align: right;\n",
       "    }\n",
       "</style>\n",
       "<table border=\"1\" class=\"dataframe\">\n",
       "  <thead>\n",
       "    <tr style=\"text-align: right;\">\n",
       "      <th></th>\n",
       "      <th>CustomerNo</th>\n",
       "      <th>PinotNoir</th>\n",
       "      <th>Champagne</th>\n",
       "    </tr>\n",
       "  </thead>\n",
       "  <tbody>\n",
       "    <tr>\n",
       "      <th>count</th>\n",
       "      <td>63.000000</td>\n",
       "      <td>63.000000</td>\n",
       "      <td>63.000000</td>\n",
       "    </tr>\n",
       "    <tr>\n",
       "      <th>mean</th>\n",
       "      <td>32.000000</td>\n",
       "      <td>12.730159</td>\n",
       "      <td>16.380952</td>\n",
       "    </tr>\n",
       "    <tr>\n",
       "      <th>std</th>\n",
       "      <td>18.330303</td>\n",
       "      <td>8.729273</td>\n",
       "      <td>12.261175</td>\n",
       "    </tr>\n",
       "    <tr>\n",
       "      <th>min</th>\n",
       "      <td>1.000000</td>\n",
       "      <td>0.000000</td>\n",
       "      <td>0.000000</td>\n",
       "    </tr>\n",
       "    <tr>\n",
       "      <th>25%</th>\n",
       "      <td>16.500000</td>\n",
       "      <td>5.000000</td>\n",
       "      <td>6.000000</td>\n",
       "    </tr>\n",
       "    <tr>\n",
       "      <th>50%</th>\n",
       "      <td>32.000000</td>\n",
       "      <td>12.000000</td>\n",
       "      <td>13.000000</td>\n",
       "    </tr>\n",
       "    <tr>\n",
       "      <th>75%</th>\n",
       "      <td>47.500000</td>\n",
       "      <td>20.000000</td>\n",
       "      <td>28.500000</td>\n",
       "    </tr>\n",
       "    <tr>\n",
       "      <th>max</th>\n",
       "      <td>63.000000</td>\n",
       "      <td>36.000000</td>\n",
       "      <td>38.000000</td>\n",
       "    </tr>\n",
       "  </tbody>\n",
       "</table>\n",
       "</div>"
      ],
      "text/plain": [
       "       CustomerNo  PinotNoir  Champagne\n",
       "count   63.000000  63.000000  63.000000\n",
       "mean    32.000000  12.730159  16.380952\n",
       "std     18.330303   8.729273  12.261175\n",
       "min      1.000000   0.000000   0.000000\n",
       "25%     16.500000   5.000000   6.000000\n",
       "50%     32.000000  12.000000  13.000000\n",
       "75%     47.500000  20.000000  28.500000\n",
       "max     63.000000  36.000000  38.000000"
      ]
     },
     "execution_count": 5,
     "metadata": {},
     "output_type": "execute_result"
    }
   ],
   "source": [
    "df.describe()"
   ]
  },
  {
   "cell_type": "code",
   "execution_count": 6,
   "id": "32b02a27",
   "metadata": {
    "execution": {
     "iopub.execute_input": "2024-09-04T07:13:58.938992Z",
     "iopub.status.busy": "2024-09-04T07:13:58.938563Z",
     "iopub.status.idle": "2024-09-04T07:13:58.968073Z",
     "shell.execute_reply": "2024-09-04T07:13:58.966214Z"
    },
    "papermill": {
     "duration": 0.044031,
     "end_time": "2024-09-04T07:13:58.972682",
     "exception": false,
     "start_time": "2024-09-04T07:13:58.928651",
     "status": "completed"
    },
    "tags": []
   },
   "outputs": [
    {
     "name": "stdout",
     "output_type": "stream",
     "text": [
      "<class 'pandas.core.frame.DataFrame'>\n",
      "RangeIndex: 63 entries, 0 to 62\n",
      "Data columns (total 4 columns):\n",
      " #   Column      Non-Null Count  Dtype \n",
      "---  ------      --------------  ----- \n",
      " 0   CustomerNo  63 non-null     int64 \n",
      " 1   customer    63 non-null     object\n",
      " 2   PinotNoir   63 non-null     int64 \n",
      " 3   Champagne   63 non-null     int64 \n",
      "dtypes: int64(3), object(1)\n",
      "memory usage: 2.1+ KB\n"
     ]
    }
   ],
   "source": [
    "df.info()"
   ]
  },
  {
   "cell_type": "code",
   "execution_count": 7,
   "id": "db38fca5",
   "metadata": {
    "execution": {
     "iopub.execute_input": "2024-09-04T07:13:58.990184Z",
     "iopub.status.busy": "2024-09-04T07:13:58.989713Z",
     "iopub.status.idle": "2024-09-04T07:13:58.997599Z",
     "shell.execute_reply": "2024-09-04T07:13:58.996200Z"
    },
    "papermill": {
     "duration": 0.020926,
     "end_time": "2024-09-04T07:13:59.001414",
     "exception": false,
     "start_time": "2024-09-04T07:13:58.980488",
     "status": "completed"
    },
    "tags": []
   },
   "outputs": [],
   "source": [
    "# required columns for cluster analysis\n",
    "df_wine = df[['PinotNoir','Champagne']]"
   ]
  },
  {
   "cell_type": "code",
   "execution_count": 8,
   "id": "d8b11044",
   "metadata": {
    "execution": {
     "iopub.execute_input": "2024-09-04T07:13:59.022340Z",
     "iopub.status.busy": "2024-09-04T07:13:59.021604Z",
     "iopub.status.idle": "2024-09-04T07:13:59.035088Z",
     "shell.execute_reply": "2024-09-04T07:13:59.032928Z"
    },
    "papermill": {
     "duration": 0.027147,
     "end_time": "2024-09-04T07:13:59.037813",
     "exception": false,
     "start_time": "2024-09-04T07:13:59.010666",
     "status": "completed"
    },
    "tags": []
   },
   "outputs": [
    {
     "data": {
      "text/html": [
       "<div>\n",
       "<style scoped>\n",
       "    .dataframe tbody tr th:only-of-type {\n",
       "        vertical-align: middle;\n",
       "    }\n",
       "\n",
       "    .dataframe tbody tr th {\n",
       "        vertical-align: top;\n",
       "    }\n",
       "\n",
       "    .dataframe thead th {\n",
       "        text-align: right;\n",
       "    }\n",
       "</style>\n",
       "<table border=\"1\" class=\"dataframe\">\n",
       "  <thead>\n",
       "    <tr style=\"text-align: right;\">\n",
       "      <th></th>\n",
       "      <th>PinotNoir</th>\n",
       "      <th>Champagne</th>\n",
       "    </tr>\n",
       "  </thead>\n",
       "  <tbody>\n",
       "    <tr>\n",
       "      <th>0</th>\n",
       "      <td>7</td>\n",
       "      <td>34</td>\n",
       "    </tr>\n",
       "    <tr>\n",
       "      <th>1</th>\n",
       "      <td>8</td>\n",
       "      <td>34</td>\n",
       "    </tr>\n",
       "    <tr>\n",
       "      <th>2</th>\n",
       "      <td>5</td>\n",
       "      <td>33</td>\n",
       "    </tr>\n",
       "    <tr>\n",
       "      <th>3</th>\n",
       "      <td>12</td>\n",
       "      <td>34</td>\n",
       "    </tr>\n",
       "    <tr>\n",
       "      <th>4</th>\n",
       "      <td>9</td>\n",
       "      <td>30</td>\n",
       "    </tr>\n",
       "  </tbody>\n",
       "</table>\n",
       "</div>"
      ],
      "text/plain": [
       "   PinotNoir  Champagne\n",
       "0          7         34\n",
       "1          8         34\n",
       "2          5         33\n",
       "3         12         34\n",
       "4          9         30"
      ]
     },
     "execution_count": 8,
     "metadata": {},
     "output_type": "execute_result"
    }
   ],
   "source": [
    "df_wine.head()"
   ]
  },
  {
   "cell_type": "code",
   "execution_count": 9,
   "id": "080fe823",
   "metadata": {
    "execution": {
     "iopub.execute_input": "2024-09-04T07:13:59.058253Z",
     "iopub.status.busy": "2024-09-04T07:13:59.057791Z",
     "iopub.status.idle": "2024-09-04T07:13:59.737928Z",
     "shell.execute_reply": "2024-09-04T07:13:59.736471Z"
    },
    "papermill": {
     "duration": 0.693912,
     "end_time": "2024-09-04T07:13:59.740665",
     "exception": false,
     "start_time": "2024-09-04T07:13:59.046753",
     "status": "completed"
    },
    "tags": []
   },
   "outputs": [],
   "source": [
    "from sklearn.cluster import KMeans"
   ]
  },
  {
   "cell_type": "markdown",
   "id": "eec6236e",
   "metadata": {
    "papermill": {
     "duration": 0.008436,
     "end_time": "2024-09-04T07:13:59.757619",
     "exception": false,
     "start_time": "2024-09-04T07:13:59.749183",
     "status": "completed"
    },
    "tags": []
   },
   "source": [
    "# Elbow Plot"
   ]
  },
  {
   "cell_type": "code",
   "execution_count": 10,
   "id": "5f2febff",
   "metadata": {
    "execution": {
     "iopub.execute_input": "2024-09-04T07:13:59.774633Z",
     "iopub.status.busy": "2024-09-04T07:13:59.774160Z",
     "iopub.status.idle": "2024-09-04T07:14:00.282383Z",
     "shell.execute_reply": "2024-09-04T07:14:00.281165Z"
    },
    "papermill": {
     "duration": 0.519903,
     "end_time": "2024-09-04T07:14:00.285081",
     "exception": false,
     "start_time": "2024-09-04T07:13:59.765178",
     "status": "completed"
    },
    "tags": []
   },
   "outputs": [
    {
     "data": {
      "image/png": "[encoded data removed]",
      "text/plain": [
       "<Figure size 640x480 with 1 Axes>"
      ]
     },
     "metadata": {},
     "output_type": "display_data"
    }
   ],
   "source": [
    "inertial_values = [] #sum of squared distances to the nearest centroid\n",
    "k_values = range(2,11)\n",
    "\n",
    "for k in k_values:\n",
    "    kmeans = KMeans(n_clusters = k, random_state=42)\n",
    "    kmeans.fit(df_wine)\n",
    "    inertial_values.append(kmeans.inertia_)\n",
    "\n",
    "#plotiing the elbow plot\n",
    "plt.plot(k_values, inertial_values, marker = 'o')\n",
    "plt.title('Elbow Plot')\n",
    "plt.xlabel('No of Clusters')\n",
    "plt.ylabel('Inertia')\n",
    "plt.show()"
   ]
  },
  {
   "cell_type": "markdown",
   "id": "54bb4cb2",
   "metadata": {
    "papermill": {
     "duration": 0.007942,
     "end_time": "2024-09-04T07:14:00.301566",
     "exception": false,
     "start_time": "2024-09-04T07:14:00.293624",
     "status": "completed"
    },
    "tags": []
   },
   "source": [
    "# Silhouette Score"
   ]
  },
  {
   "cell_type": "code",
   "execution_count": 11,
   "id": "4eb0df47",
   "metadata": {
    "execution": {
     "iopub.execute_input": "2024-09-04T07:14:00.320827Z",
     "iopub.status.busy": "2024-09-04T07:14:00.320394Z",
     "iopub.status.idle": "2024-09-04T07:14:00.326205Z",
     "shell.execute_reply": "2024-09-04T07:14:00.324990Z"
    },
    "papermill": {
     "duration": 0.019734,
     "end_time": "2024-09-04T07:14:00.329348",
     "exception": false,
     "start_time": "2024-09-04T07:14:00.309614",
     "status": "completed"
    },
    "tags": []
   },
   "outputs": [],
   "source": [
    "from sklearn.metrics import silhouette_score"
   ]
  },
  {
   "cell_type": "code",
   "execution_count": 12,
   "id": "113f4f63",
   "metadata": {
    "execution": {
     "iopub.execute_input": "2024-09-04T07:14:00.347786Z",
     "iopub.status.busy": "2024-09-04T07:14:00.347354Z",
     "iopub.status.idle": "2024-09-04T07:14:00.509109Z",
     "shell.execute_reply": "2024-09-04T07:14:00.507448Z"
    },
    "papermill": {
     "duration": 0.173922,
     "end_time": "2024-09-04T07:14:00.511578",
     "exception": false,
     "start_time": "2024-09-04T07:14:00.337656",
     "status": "completed"
    },
    "tags": []
   },
   "outputs": [
    {
     "name": "stdout",
     "output_type": "stream",
     "text": [
      "For K =  2 The Silhouette Score is  0.5177896553591894\n",
      "For K =  3 The Silhouette Score is  0.4991281085927395\n",
      "For K =  4 The Silhouette Score is  0.45850876420394737\n",
      "For K =  5 The Silhouette Score is  0.4488199576445271\n",
      "For K =  6 The Silhouette Score is  0.4441730762754557\n",
      "For K =  7 The Silhouette Score is  0.4533899712110492\n",
      "For K =  8 The Silhouette Score is  0.46664421856051147\n",
      "For K =  9 The Silhouette Score is  0.48080007507862876\n",
      "==========================================================\n",
      "The Optimal number of cluster is :  2\n"
     ]
    }
   ],
   "source": [
    "silhouette_scores = []\n",
    "k_values = range(2,10)\n",
    "\n",
    "for k in k_values:\n",
    "    kmeans = KMeans(n_clusters = k, random_state=42)\n",
    "    kmeans.fit(df_wine)\n",
    "    labels = kmeans.labels_\n",
    "    silhouette_avg = silhouette_score(df_wine, labels)\n",
    "    silhouette_scores.append(silhouette_avg)\n",
    "    print('For K = ', k , 'The Silhouette Score is ',silhouette_avg)\n",
    "    \n",
    "    optimal_k = k_values[silhouette_scores.index(max(silhouette_scores))]\n",
    "print('==========================================================')\n",
    "print('The Optimal number of cluster is : ',optimal_k)"
   ]
  },
  {
   "cell_type": "markdown",
   "id": "60707c12",
   "metadata": {
    "papermill": {
     "duration": 0.007972,
     "end_time": "2024-09-04T07:14:00.528565",
     "exception": false,
     "start_time": "2024-09-04T07:14:00.520593",
     "status": "completed"
    },
    "tags": []
   },
   "source": [
    "# Creating Cluster with Optimal K"
   ]
  },
  {
   "cell_type": "code",
   "execution_count": 13,
   "id": "9c9dc00f",
   "metadata": {
    "execution": {
     "iopub.execute_input": "2024-09-04T07:14:00.547465Z",
     "iopub.status.busy": "2024-09-04T07:14:00.546894Z",
     "iopub.status.idle": "2024-09-04T07:14:00.568940Z",
     "shell.execute_reply": "2024-09-04T07:14:00.568093Z"
    },
    "papermill": {
     "duration": 0.034955,
     "end_time": "2024-09-04T07:14:00.571654",
     "exception": false,
     "start_time": "2024-09-04T07:14:00.536699",
     "status": "completed"
    },
    "tags": []
   },
   "outputs": [
    {
     "data": {
      "text/html": [
       "<style>#sk-container-id-1 {color: black;background-color: white;}#sk-container-id-1 pre{padding: 0;}#sk-container-id-1 div.sk-toggleable {background-color: white;}#sk-container-id-1 label.sk-toggleable__label {cursor: pointer;display: block;width: 100%;margin-bottom: 0;padding: 0.3em;box-sizing: border-box;text-align: center;}#sk-container-id-1 label.sk-toggleable__label-arrow:before {content: \"▸\";float: left;margin-right: 0.25em;color: #696969;}#sk-container-id-1 label.sk-toggleable__label-arrow:hover:before {color: black;}#sk-container-id-1 div.sk-estimator:hover label.sk-toggleable__label-arrow:before {color: black;}#sk-container-id-1 div.sk-toggleable__content {max-height: 0;max-width: 0;overflow: hidden;text-align: left;background-color: #f0f8ff;}#sk-container-id-1 div.sk-toggleable__content pre {margin: 0.2em;color: black;border-radius: 0.25em;background-color: #f0f8ff;}#sk-container-id-1 input.sk-toggleable__control:checked~div.sk-toggleable__content {max-height: 200px;max-width: 100%;overflow: auto;}#sk-container-id-1 input.sk-toggleable__control:checked~label.sk-toggleable__label-arrow:before {content: \"▾\";}#sk-container-id-1 div.sk-estimator input.sk-toggleable__control:checked~label.sk-toggleable__label {background-color: #d4ebff;}#sk-container-id-1 div.sk-label input.sk-toggleable__control:checked~label.sk-toggleable__label {background-color: #d4ebff;}#sk-container-id-1 input.sk-hidden--visually {border: 0;clip: rect(1px 1px 1px 1px);clip: rect(1px, 1px, 1px, 1px);height: 1px;margin: -1px;overflow: hidden;padding: 0;position: absolute;width: 1px;}#sk-container-id-1 div.sk-estimator {font-family: monospace;background-color: #f0f8ff;border: 1px dotted black;border-radius: 0.25em;box-sizing: border-box;margin-bottom: 0.5em;}#sk-container-id-1 div.sk-estimator:hover {background-color: #d4ebff;}#sk-container-id-1 div.sk-parallel-item::after {content: \"\";width: 100%;border-bottom: 1px solid gray;flex-grow: 1;}#sk-container-id-1 div.sk-label:hover label.sk-toggleable__label {background-color: #d4ebff;}#sk-container-id-1 div.sk-serial::before {content: \"\";position: absolute;border-left: 1px solid gray;box-sizing: border-box;top: 0;bottom: 0;left: 50%;z-index: 0;}#sk-container-id-1 div.sk-serial {display: flex;flex-direction: column;align-items: center;background-color: white;padding-right: 0.2em;padding-left: 0.2em;position: relative;}#sk-container-id-1 div.sk-item {position: relative;z-index: 1;}#sk-container-id-1 div.sk-parallel {display: flex;align-items: stretch;justify-content: center;background-color: white;position: relative;}#sk-container-id-1 div.sk-item::before, #sk-container-id-1 div.sk-parallel-item::before {content: \"\";position: absolute;border-left: 1px solid gray;box-sizing: border-box;top: 0;bottom: 0;left: 50%;z-index: -1;}#sk-container-id-1 div.sk-parallel-item {display: flex;flex-direction: column;z-index: 1;position: relative;background-color: white;}#sk-container-id-1 div.sk-parallel-item:first-child::after {align-self: flex-end;width: 50%;}#sk-container-id-1 div.sk-parallel-item:last-child::after {align-self: flex-start;width: 50%;}#sk-container-id-1 div.sk-parallel-item:only-child::after {width: 0;}#sk-container-id-1 div.sk-dashed-wrapped {border: 1px dashed gray;margin: 0 0.4em 0.5em 0.4em;box-sizing: border-box;padding-bottom: 0.4em;background-color: white;}#sk-container-id-1 div.sk-label label {font-family: monospace;font-weight: bold;display: inline-block;line-height: 1.2em;}#sk-container-id-1 div.sk-label-container {text-align: center;}#sk-container-id-1 div.sk-container {/* jupyter's `normalize.less` sets `[hidden] { display: none; }` but bootstrap.min.css set `[hidden] { display: none !important; }` so we also need the `!important` here to be able to override the default hidden behavior on the sphinx rendered scikit-learn.org. See: https://github.com/scikit-learn/scikit-learn/issues/21755 */display: inline-block !important;position: relative;}#sk-container-id-1 div.sk-text-repr-fallback {display: none;}</style><div id=\"sk-container-id-1\" class=\"sk-top-container\"><div class=\"sk-text-repr-fallback\"><pre>KMeans(n_clusters=2, random_state=42)</pre><b>In a Jupyter environment, please rerun this cell to show the HTML representation or trust the notebook. <br />On GitHub, the HTML representation is unable to render, please try loading this page with nbviewer.org.</b></div><div class=\"sk-container\" hidden><div class=\"sk-item\"><div class=\"sk-estimator sk-toggleable\"><input class=\"sk-toggleable__control sk-hidden--visually\" id=\"sk-estimator-id-1\" type=\"checkbox\" checked><label for=\"sk-estimator-id-1\" class=\"sk-toggleable__label sk-toggleable__label-arrow\">KMeans</label><div class=\"sk-toggleable__content\"><pre>KMeans(n_clusters=2, random_state=42)</pre></div></div></div></div></div>"
      ],
      "text/plain": [
       "KMeans(n_clusters=2, random_state=42)"
      ]
     },
     "execution_count": 13,
     "metadata": {},
     "output_type": "execute_result"
    }
   ],
   "source": [
    "model = KMeans(n_clusters=2,random_state=42)\n",
    "model.fit(df_wine)"
   ]
  },
  {
   "cell_type": "code",
   "execution_count": 14,
   "id": "ecbe372b",
   "metadata": {
    "execution": {
     "iopub.execute_input": "2024-09-04T07:14:00.591882Z",
     "iopub.status.busy": "2024-09-04T07:14:00.591454Z",
     "iopub.status.idle": "2024-09-04T07:14:00.599832Z",
     "shell.execute_reply": "2024-09-04T07:14:00.598521Z"
    },
    "papermill": {
     "duration": 0.021127,
     "end_time": "2024-09-04T07:14:00.602417",
     "exception": false,
     "start_time": "2024-09-04T07:14:00.581290",
     "status": "completed"
    },
    "tags": []
   },
   "outputs": [
    {
     "data": {
      "text/plain": [
       "array([[15.57142857,  8.78571429],\n",
       "       [ 7.04761905, 31.57142857]])"
      ]
     },
     "execution_count": 14,
     "metadata": {},
     "output_type": "execute_result"
    }
   ],
   "source": [
    "model.cluster_centers_"
   ]
  },
  {
   "cell_type": "code",
   "execution_count": 15,
   "id": "f4f328c6",
   "metadata": {
    "execution": {
     "iopub.execute_input": "2024-09-04T07:14:00.621722Z",
     "iopub.status.busy": "2024-09-04T07:14:00.621285Z",
     "iopub.status.idle": "2024-09-04T07:14:00.629031Z",
     "shell.execute_reply": "2024-09-04T07:14:00.627922Z"
    },
    "papermill": {
     "duration": 0.020417,
     "end_time": "2024-09-04T07:14:00.631650",
     "exception": false,
     "start_time": "2024-09-04T07:14:00.611233",
     "status": "completed"
    },
    "tags": []
   },
   "outputs": [
    {
     "data": {
      "text/plain": [
       "array([1, 1, 1, 1, 1, 1, 1, 1, 1, 1, 1, 1, 1, 1, 1, 1, 1, 1, 1, 1, 1, 0,\n",
       "       0, 0, 0, 0, 0, 0, 0, 0, 0, 0, 0, 0, 0, 0, 0, 0, 0, 0, 0, 0, 0, 0,\n",
       "       0, 0, 0, 0, 0, 0, 0, 0, 0, 0, 0, 0, 0, 0, 0, 0, 0, 0, 0],\n",
       "      dtype=int32)"
      ]
     },
     "execution_count": 15,
     "metadata": {},
     "output_type": "execute_result"
    }
   ],
   "source": [
    "model.labels_"
   ]
  },
  {
   "cell_type": "code",
   "execution_count": 16,
   "id": "5071bec3",
   "metadata": {
    "execution": {
     "iopub.execute_input": "2024-09-04T07:14:00.650961Z",
     "iopub.status.busy": "2024-09-04T07:14:00.650554Z",
     "iopub.status.idle": "2024-09-04T07:14:00.656871Z",
     "shell.execute_reply": "2024-09-04T07:14:00.655442Z"
    },
    "papermill": {
     "duration": 0.01884,
     "end_time": "2024-09-04T07:14:00.659308",
     "exception": false,
     "start_time": "2024-09-04T07:14:00.640468",
     "status": "completed"
    },
    "tags": []
   },
   "outputs": [],
   "source": [
    "df_wine['Cluster_ID'] = model.labels_"
   ]
  },
  {
   "cell_type": "code",
   "execution_count": 17,
   "id": "0b1abcea",
   "metadata": {
    "execution": {
     "iopub.execute_input": "2024-09-04T07:14:00.678283Z",
     "iopub.status.busy": "2024-09-04T07:14:00.677837Z",
     "iopub.status.idle": "2024-09-04T07:14:00.692396Z",
     "shell.execute_reply": "2024-09-04T07:14:00.691112Z"
    },
    "papermill": {
     "duration": 0.026885,
     "end_time": "2024-09-04T07:14:00.694805",
     "exception": false,
     "start_time": "2024-09-04T07:14:00.667920",
     "status": "completed"
    },
    "tags": []
   },
   "outputs": [
    {
     "data": {
      "text/html": [
       "<div>\n",
       "<style scoped>\n",
       "    .dataframe tbody tr th:only-of-type {\n",
       "        vertical-align: middle;\n",
       "    }\n",
       "\n",
       "    .dataframe tbody tr th {\n",
       "        vertical-align: top;\n",
       "    }\n",
       "\n",
       "    .dataframe thead th {\n",
       "        text-align: right;\n",
       "    }\n",
       "</style>\n",
       "<table border=\"1\" class=\"dataframe\">\n",
       "  <thead>\n",
       "    <tr style=\"text-align: right;\">\n",
       "      <th></th>\n",
       "      <th>PinotNoir</th>\n",
       "      <th>Champagne</th>\n",
       "      <th>Cluster_ID</th>\n",
       "    </tr>\n",
       "  </thead>\n",
       "  <tbody>\n",
       "    <tr>\n",
       "      <th>0</th>\n",
       "      <td>7</td>\n",
       "      <td>34</td>\n",
       "      <td>1</td>\n",
       "    </tr>\n",
       "    <tr>\n",
       "      <th>1</th>\n",
       "      <td>8</td>\n",
       "      <td>34</td>\n",
       "      <td>1</td>\n",
       "    </tr>\n",
       "    <tr>\n",
       "      <th>2</th>\n",
       "      <td>5</td>\n",
       "      <td>33</td>\n",
       "      <td>1</td>\n",
       "    </tr>\n",
       "    <tr>\n",
       "      <th>3</th>\n",
       "      <td>12</td>\n",
       "      <td>34</td>\n",
       "      <td>1</td>\n",
       "    </tr>\n",
       "    <tr>\n",
       "      <th>4</th>\n",
       "      <td>9</td>\n",
       "      <td>30</td>\n",
       "      <td>1</td>\n",
       "    </tr>\n",
       "    <tr>\n",
       "      <th>...</th>\n",
       "      <td>...</td>\n",
       "      <td>...</td>\n",
       "      <td>...</td>\n",
       "    </tr>\n",
       "    <tr>\n",
       "      <th>58</th>\n",
       "      <td>11</td>\n",
       "      <td>10</td>\n",
       "      <td>0</td>\n",
       "    </tr>\n",
       "    <tr>\n",
       "      <th>59</th>\n",
       "      <td>13</td>\n",
       "      <td>3</td>\n",
       "      <td>0</td>\n",
       "    </tr>\n",
       "    <tr>\n",
       "      <th>60</th>\n",
       "      <td>13</td>\n",
       "      <td>3</td>\n",
       "      <td>0</td>\n",
       "    </tr>\n",
       "    <tr>\n",
       "      <th>61</th>\n",
       "      <td>12</td>\n",
       "      <td>16</td>\n",
       "      <td>0</td>\n",
       "    </tr>\n",
       "    <tr>\n",
       "      <th>62</th>\n",
       "      <td>13</td>\n",
       "      <td>16</td>\n",
       "      <td>0</td>\n",
       "    </tr>\n",
       "  </tbody>\n",
       "</table>\n",
       "<p>63 rows × 3 columns</p>\n",
       "</div>"
      ],
      "text/plain": [
       "    PinotNoir  Champagne  Cluster_ID\n",
       "0           7         34           1\n",
       "1           8         34           1\n",
       "2           5         33           1\n",
       "3          12         34           1\n",
       "4           9         30           1\n",
       "..        ...        ...         ...\n",
       "58         11         10           0\n",
       "59         13          3           0\n",
       "60         13          3           0\n",
       "61         12         16           0\n",
       "62         13         16           0\n",
       "\n",
       "[63 rows x 3 columns]"
      ]
     },
     "execution_count": 17,
     "metadata": {},
     "output_type": "execute_result"
    }
   ],
   "source": [
    "df_wine"
   ]
  },
  {
   "cell_type": "code",
   "execution_count": 18,
   "id": "b5164426",
   "metadata": {
    "execution": {
     "iopub.execute_input": "2024-09-04T07:14:00.714645Z",
     "iopub.status.busy": "2024-09-04T07:14:00.714169Z",
     "iopub.status.idle": "2024-09-04T07:14:01.125077Z",
     "shell.execute_reply": "2024-09-04T07:14:01.123829Z"
    },
    "papermill": {
     "duration": 0.42389,
     "end_time": "2024-09-04T07:14:01.127838",
     "exception": false,
     "start_time": "2024-09-04T07:14:00.703948",
     "status": "completed"
    },
    "tags": []
   },
   "outputs": [],
   "source": [
    "df_wine.to_excel('clustered_data.xlsx', index = False)"
   ]
  },
  {
   "cell_type": "markdown",
   "id": "f4be5403",
   "metadata": {
    "papermill": {
     "duration": 0.008798,
     "end_time": "2024-09-04T07:14:01.145780",
     "exception": false,
     "start_time": "2024-09-04T07:14:01.136982",
     "status": "completed"
    },
    "tags": []
   },
   "source": [
    "# CLuster Profile"
   ]
  },
  {
   "cell_type": "code",
   "execution_count": 19,
   "id": "8966c2d5",
   "metadata": {
    "execution": {
     "iopub.execute_input": "2024-09-04T07:14:01.165929Z",
     "iopub.status.busy": "2024-09-04T07:14:01.165362Z",
     "iopub.status.idle": "2024-09-04T07:14:01.171795Z",
     "shell.execute_reply": "2024-09-04T07:14:01.170602Z"
    },
    "papermill": {
     "duration": 0.019237,
     "end_time": "2024-09-04T07:14:01.173977",
     "exception": false,
     "start_time": "2024-09-04T07:14:01.154740",
     "status": "completed"
    },
    "tags": []
   },
   "outputs": [],
   "source": [
    "df_w = df[['PinotNoir','Champagne']]"
   ]
  },
  {
   "cell_type": "code",
   "execution_count": 20,
   "id": "81401dbb",
   "metadata": {
    "execution": {
     "iopub.execute_input": "2024-09-04T07:14:01.193662Z",
     "iopub.status.busy": "2024-09-04T07:14:01.193180Z",
     "iopub.status.idle": "2024-09-04T07:14:01.198727Z",
     "shell.execute_reply": "2024-09-04T07:14:01.197598Z"
    },
    "papermill": {
     "duration": 0.018003,
     "end_time": "2024-09-04T07:14:01.201021",
     "exception": false,
     "start_time": "2024-09-04T07:14:01.183018",
     "status": "completed"
    },
    "tags": []
   },
   "outputs": [],
   "source": [
    "centroid = model.cluster_centers_"
   ]
  },
  {
   "cell_type": "code",
   "execution_count": 21,
   "id": "38506c72",
   "metadata": {
    "execution": {
     "iopub.execute_input": "2024-09-04T07:14:01.221407Z",
     "iopub.status.busy": "2024-09-04T07:14:01.220432Z",
     "iopub.status.idle": "2024-09-04T07:14:01.226461Z",
     "shell.execute_reply": "2024-09-04T07:14:01.225064Z"
    },
    "papermill": {
     "duration": 0.019134,
     "end_time": "2024-09-04T07:14:01.229040",
     "exception": false,
     "start_time": "2024-09-04T07:14:01.209906",
     "status": "completed"
    },
    "tags": []
   },
   "outputs": [],
   "source": [
    "col_names = df_w.columns.tolist()\n",
    "cluster_profile = pd.DataFrame(centroid,columns= col_names)"
   ]
  },
  {
   "cell_type": "code",
   "execution_count": 22,
   "id": "036b2973",
   "metadata": {
    "execution": {
     "iopub.execute_input": "2024-09-04T07:14:01.248730Z",
     "iopub.status.busy": "2024-09-04T07:14:01.248313Z",
     "iopub.status.idle": "2024-09-04T07:14:01.259646Z",
     "shell.execute_reply": "2024-09-04T07:14:01.258211Z"
    },
    "papermill": {
     "duration": 0.024003,
     "end_time": "2024-09-04T07:14:01.261950",
     "exception": false,
     "start_time": "2024-09-04T07:14:01.237947",
     "status": "completed"
    },
    "tags": []
   },
   "outputs": [
    {
     "data": {
      "text/html": [
       "<div>\n",
       "<style scoped>\n",
       "    .dataframe tbody tr th:only-of-type {\n",
       "        vertical-align: middle;\n",
       "    }\n",
       "\n",
       "    .dataframe tbody tr th {\n",
       "        vertical-align: top;\n",
       "    }\n",
       "\n",
       "    .dataframe thead th {\n",
       "        text-align: right;\n",
       "    }\n",
       "</style>\n",
       "<table border=\"1\" class=\"dataframe\">\n",
       "  <thead>\n",
       "    <tr style=\"text-align: right;\">\n",
       "      <th></th>\n",
       "      <th>PinotNoir</th>\n",
       "      <th>Champagne</th>\n",
       "    </tr>\n",
       "  </thead>\n",
       "  <tbody>\n",
       "    <tr>\n",
       "      <th>0</th>\n",
       "      <td>15.571429</td>\n",
       "      <td>8.785714</td>\n",
       "    </tr>\n",
       "    <tr>\n",
       "      <th>1</th>\n",
       "      <td>7.047619</td>\n",
       "      <td>31.571429</td>\n",
       "    </tr>\n",
       "  </tbody>\n",
       "</table>\n",
       "</div>"
      ],
      "text/plain": [
       "   PinotNoir  Champagne\n",
       "0  15.571429   8.785714\n",
       "1   7.047619  31.571429"
      ]
     },
     "execution_count": 22,
     "metadata": {},
     "output_type": "execute_result"
    }
   ],
   "source": [
    "cluster_profile"
   ]
  },
  {
   "cell_type": "code",
   "execution_count": 23,
   "id": "05641dd8",
   "metadata": {
    "execution": {
     "iopub.execute_input": "2024-09-04T07:14:01.283434Z",
     "iopub.status.busy": "2024-09-04T07:14:01.282986Z",
     "iopub.status.idle": "2024-09-04T07:14:01.301620Z",
     "shell.execute_reply": "2024-09-04T07:14:01.299866Z"
    },
    "papermill": {
     "duration": 0.032674,
     "end_time": "2024-09-04T07:14:01.304277",
     "exception": false,
     "start_time": "2024-09-04T07:14:01.271603",
     "status": "completed"
    },
    "tags": []
   },
   "outputs": [],
   "source": [
    "cluster_profile.to_excel('clsuter_profile.xlsx', index = False)"
   ]
  },
  {
   "cell_type": "markdown",
   "id": "adce5ad6",
   "metadata": {
    "papermill": {
     "duration": 0.009181,
     "end_time": "2024-09-04T07:14:01.322728",
     "exception": false,
     "start_time": "2024-09-04T07:14:01.313547",
     "status": "completed"
    },
    "tags": []
   },
   "source": [
    "# Plotting the 2 Clusters"
   ]
  },
  {
   "cell_type": "code",
   "execution_count": 24,
   "id": "11a372ee",
   "metadata": {
    "execution": {
     "iopub.execute_input": "2024-09-04T07:14:01.343056Z",
     "iopub.status.busy": "2024-09-04T07:14:01.342625Z",
     "iopub.status.idle": "2024-09-04T07:14:01.730988Z",
     "shell.execute_reply": "2024-09-04T07:14:01.729683Z"
    },
    "papermill": {
     "duration": 0.401816,
     "end_time": "2024-09-04T07:14:01.733797",
     "exception": false,
     "start_time": "2024-09-04T07:14:01.331981",
     "status": "completed"
    },
    "tags": []
   },
   "outputs": [
    {
     "data": {
      "image/png": "[encoded data removed]",
      "text/plain": [
       "<Figure size 640x480 with 1 Axes>"
      ]
     },
     "metadata": {},
     "output_type": "display_data"
    }
   ],
   "source": [
    "sns.scatterplot(x='PinotNoir', y='Champagne', hue='Cluster_ID', data=df_wine)\n",
    "plt.scatter(cluster_profile['PinotNoir'], cluster_profile['Champagne'], s=200, c='black', label='Centroids', marker='X')\n",
    "plt.title('Clusters of Wine Preferences')\n",
    "plt.xlabel('Pinot Noir')\n",
    "plt.ylabel('Champagne')\n",
    "plt.show()"
   ]
  },
  {
   "cell_type": "code",
   "execution_count": null,
   "id": "74b4cf87",
   "metadata": {
    "papermill": {
     "duration": 0.0095,
     "end_time": "2024-09-04T07:14:01.753732",
     "exception": false,
     "start_time": "2024-09-04T07:14:01.744232",
     "status": "completed"
    },
    "tags": []
   },
   "outputs": [],
   "source": []
  }
 ],
 "metadata": {
  "kaggle": {
   "accelerator": "none",
   "dataSources": [
    {
     "datasetId": 5641122,
     "sourceId": 9314178,
     "sourceType": "datasetVersion"
    }
   ],
   "dockerImageVersionId": 30761,
   "isGpuEnabled": false,
   "isInternetEnabled": true,
   "language": "python",
   "sourceType": "notebook"
  },
  "kernelspec": {
   "display_name": "Python 3",
   "language": "python",
   "name": "python3"
  },
  "language_info": {
   "codemirror_mode": {
    "name": "ipython",
    "version": 3
   },
   "file_extension": ".py",
   "mimetype": "text/x-python",
   "name": "python",
   "nbconvert_exporter": "python",
   "pygments_lexer": "ipython3",
   "version": "3.10.14"
  },
  "papermill": {
   "default_parameters": {},
   "duration": 9.152197,
   "end_time": "2024-09-04T07:14:02.485790",
   "environment_variables": {},
   "exception": null,
   "input_path": "__notebook__.ipynb",
   "output_path": "__notebook__.ipynb",
   "parameters": {},
   "start_time": "2024-09-04T07:13:53.333593",
   "version": "2.6.0"
  }
 },
 "nbformat": 4,
 "nbformat_minor": 5
}
